{
 "cells": [
  {
   "cell_type": "markdown",
   "metadata": {},
   "source": [
    "# Todo List\n",
    "- Add several dense layers after convolutional layers\n",
    "- Play with learning rate and batch size\n",
    "- Shuffle dataset after each epoch\n",
    "- Add skip layers"
   ]
  },
  {
   "cell_type": "code",
   "execution_count": 1,
   "metadata": {
    "collapsed": true
   },
   "outputs": [],
   "source": [
    "import pandas as pd\n",
    "import numpy as np\n",
    "from sklearn import preprocessing\n",
    "import pickle\n",
    "import helper\n",
    "import os\n",
    "\n",
    "dataset_dir = 'DataSet/'"
   ]
  },
  {
   "cell_type": "markdown",
   "metadata": {},
   "source": [
    "# Check the Version of TensorFlow and Access to GPU\n",
    "This will check to make sure you have the correct version of TensorFlow and access to a GPU"
   ]
  },
  {
   "cell_type": "code",
   "execution_count": 2,
   "metadata": {},
   "outputs": [
    {
     "name": "stdout",
     "output_type": "stream",
     "text": [
      "TensorFlow Version: 1.1.0\n",
      "Default GPU Device: /gpu:0\n"
     ]
    }
   ],
   "source": [
    "from distutils.version import LooseVersion\n",
    "import warnings\n",
    "import tensorflow as tf\n",
    "\n",
    "# Check TensorFlow Version\n",
    "assert LooseVersion(tf.__version__) >= LooseVersion('1.0'), 'Please use TensorFlow version 1.0 or newer.  You are using {}'.format(tf.__version__)\n",
    "print('TensorFlow Version: {}'.format(tf.__version__))\n",
    "\n",
    "# Check for a GPU\n",
    "if not tf.test.gpu_device_name():\n",
    "    warnings.warn('No GPU found. Please use a GPU to train your neural network.')\n",
    "else:\n",
    "    print('Default GPU Device: {}'.format(tf.test.gpu_device_name()))"
   ]
  },
  {
   "cell_type": "markdown",
   "metadata": {},
   "source": [
    "# Import Data"
   ]
  },
  {
   "cell_type": "code",
   "execution_count": 3,
   "metadata": {},
   "outputs": [
    {
     "name": "stdout",
     "output_type": "stream",
     "text": [
      "File: DataSet/2018-07-13_18-39-56_0.pkl, DataSet Length: 500\n",
      "File: DataSet/2018-07-13_18-43-51_0.pkl, DataSet Length: 500\n",
      "File: DataSet/2018-07-13_18-46-04_1.pkl, DataSet Length: 500\n",
      "File: DataSet/2018-07-13_18-47-58_2.pkl, DataSet Length: 500\n",
      "File: DataSet/2018-07-13_18-49-54_3.pkl, DataSet Length: 500\n",
      "File: DataSet/2018-07-13_18-52-16_4.pkl, DataSet Length: 500\n",
      "File: DataSet/2018-07-13_18-54-29_5.pkl, DataSet Length: 500\n",
      "File: DataSet/2018-07-13_18-56-38_6.pkl, DataSet Length: 500\n",
      "File: DataSet/2018-07-13_18-58-30_7.pkl, DataSet Length: 500\n",
      "File: DataSet/2018-07-13_19-00-21_8.pkl, DataSet Length: 500\n",
      "File: DataSet/2018-07-13_19-02-36_9.pkl, DataSet Length: 500\n",
      "File: DataSet/2018-07-13_19-04-42_10.pkl, DataSet Length: 500\n",
      "File: DataSet/2018-07-13_19-06-38_11.pkl, DataSet Length: 500\n",
      "File: DataSet/2018-07-13_19-08-49_12.pkl, DataSet Length: 500\n",
      "File: DataSet/2018-07-13_19-10-48_13.pkl, DataSet Length: 500\n",
      "File: DataSet/2018-07-13_19-12-43_14.pkl, DataSet Length: 500\n",
      "File: DataSet/2018-07-13_19-14-54_15.pkl, DataSet Length: 500\n",
      "File: DataSet/2018-07-13_19-16-54_16.pkl, DataSet Length: 500\n",
      "File: DataSet/2018-07-13_19-19-01_17.pkl, DataSet Length: 500\n",
      "File: DataSet/2018-07-13_19-20-48_18.pkl, DataSet Length: 500\n",
      "File: DataSet/2018-07-13_19-22-54_19.pkl, DataSet Length: 500\n",
      "File: DataSet/2018-07-13_19-22-54_20.pkl, DataSet Length: 500\n",
      "File: DataSet/2018-07-19_21-51-06_0.pkl, DataSet Length: 100\n",
      "File: DataSet/2018-07-22_19-55-26_0.pkl, DataSet Length: 500\n",
      "File: DataSet/2018-07-22_19-57-49_1.pkl, DataSet Length: 500\n",
      "File: DataSet/2018-07-22_20-00-15_2.pkl, DataSet Length: 500\n",
      "File: DataSet/2018-07-22_20-02-15_3.pkl, DataSet Length: 500\n",
      "File: DataSet/2018-07-22_20-08-57_4.pkl, DataSet Length: 500\n",
      "File: DataSet/2018-07-22_20-11-50_5.pkl, DataSet Length: 500\n",
      "File: DataSet/2018-07-22_20-17-45_6.pkl, DataSet Length: 500\n",
      "File: DataSet/2018-07-22_20-19-39_7.pkl, DataSet Length: 500\n",
      "File: DataSet/2018-07-22_20-21-27_8.pkl, DataSet Length: 500\n",
      "File: DataSet/2018-07-22_20-23-34_9.pkl, DataSet Length: 500\n",
      "File: DataSet/2018-07-25_20-29-02_0.pkl, DataSet Length: 500\n",
      "File: DataSet/2018-07-25_20-30-59_1.pkl, DataSet Length: 500\n",
      "File: DataSet/2018-07-25_20-32-54_2.pkl, DataSet Length: 500\n",
      "File: DataSet/2018-07-25_20-35-09_3.pkl, DataSet Length: 500\n",
      "File: DataSet/2018-07-29_12-41-02_0.pkl, DataSet Length: 5177\n",
      "File: DataSet/2018-07-29_12-44-10_1.pkl, DataSet Length: 5374\n",
      "File: DataSet/2018-07-29_12-47-05_2.pkl, DataSet Length: 5381\n",
      "File: DataSet/2018-07-29_12-49-34_3.pkl, DataSet Length: 5357\n",
      "File: DataSet/2018-08-11_11-55-40_c.pkl, DataSet Length: 1005\n",
      "File: DataSet/2018-08-11_12-10-20_c.pkl, DataSet Length: 1944\n",
      "File: DataSet/2018-09-01_09-34-29_0.pkl, DataSet Length: 5193\n",
      "File: DataSet/2018-09-01_09-37-00_1.pkl, DataSet Length: 5264\n",
      "File: DataSet/2018-09-01_09-39-36_2.pkl, DataSet Length: 5200\n",
      "File: DataSet/2018-09-01_09-42-28_3.pkl, DataSet Length: 5342\n",
      "File: DataSet/2018-09-01_09-45-40_4.pkl, DataSet Length: 5382\n",
      "File: DataSet/2018-09-01_09-49-02_5.pkl, DataSet Length: 5309\n",
      "File: DataSet/2018-09-01_09-51-54_6.pkl, DataSet Length: 5350\n",
      "File: DataSet/2018-09-01_09-55-03_7.pkl, DataSet Length: 5331\n",
      "File: DataSet/2018-09-01_09-57-56_8.pkl, DataSet Length: 5339\n",
      "File: DataSet/2018-09-01_10-03-04_9.pkl, DataSet Length: 5266\n",
      "File: DataSet/2018-09-01_10-05-52_10.pkl, DataSet Length: 5194\n",
      "File: DataSet/2018-09-01_10-08-24_11.pkl, DataSet Length: 5150\n",
      "File: DataSet/2018-09-01_10-11-11_12.pkl, DataSet Length: 5089\n",
      "File: DataSet/2018-09-01_10-14-00_13.pkl, DataSet Length: 5114\n",
      "File: DataSet/2018-09-01_10-16-39_14.pkl, DataSet Length: 4885\n",
      "File: DataSet/2018-09-01_10-20-08_15.pkl, DataSet Length: 5064\n",
      "File: DataSet/2018-09-01_10-23-29_16.pkl, DataSet Length: 4668\n",
      "File: DataSet/2018-09-01_10-26-47_17.pkl, DataSet Length: 4789\n",
      "File: DataSet/2018-09-01_10-29-34_18.pkl, DataSet Length: 4674\n",
      "File: DataSet/2018-09-01_10-32-28_19.pkl, DataSet Length: 4483\n",
      "File: DataSet/2018-09-01_10-34-55_20.pkl, DataSet Length: 4513\n",
      "File: DataSet/2018-09-01_10-37-40_21.pkl, DataSet Length: 4447\n",
      "File: DataSet/2018-09-01_10-40-12_22.pkl, DataSet Length: 4556\n",
      "File: DataSet/2018-09-01_10-42-45_23.pkl, DataSet Length: 4523\n",
      "File: DataSet/2018-09-01_10-50-58_c.pkl, DataSet Length: 2018\n",
      "File: DataSet/2018-09-01_10-56-27_c.pkl, DataSet Length: 2870\n",
      "File: DataSet/2018-09-01_11-01-09_c.pkl, DataSet Length: 7529\n",
      "File: DataSet/data_07-08-18.pkl, DataSet Length: 7150\n",
      "File: DataSet/data_07-10-18_work.pkl, DataSet Length: 8700\n",
      "File: DataSet/data_07-13-18.pkl, DataSet Length: 5400\n",
      "Total Length: 196130\n"
     ]
    }
   ],
   "source": [
    "count = 0\n",
    "for filename in os.listdir(dataset_dir):\n",
    "    if filename.endswith(\"test_set.pkl\") or filename.endswith(\"predict.pkl\") or filename.endswith(\"debug.pkl\"):\n",
    "        continue\n",
    "    if filename.endswith(\".pkl\"): \n",
    "        df = pd.read_pickle(os.path.join(dataset_dir, filename))\n",
    "        \n",
    "        if count == 0:\n",
    "            raw_df = df\n",
    "        else:\n",
    "            raw_df = raw_df.append(df, ignore_index=True)\n",
    "            \n",
    "        print('File: {}, DataSet Length: {}'.format(os.path.join(dataset_dir, filename), len(df)))\n",
    "        count += 1\n",
    "    else:\n",
    "        continue\n",
    "print('Total Length: {}'.format(len(raw_df)))"
   ]
  },
  {
   "cell_type": "code",
   "execution_count": 4,
   "metadata": {
    "collapsed": true
   },
   "outputs": [],
   "source": [
    "data_width = len(raw_df['data'][0])"
   ]
  },
  {
   "cell_type": "markdown",
   "metadata": {},
   "source": [
    "# Data Preprocessing"
   ]
  },
  {
   "cell_type": "markdown",
   "metadata": {},
   "source": [
    "#### Filter out key counts less than threshold value"
   ]
  },
  {
   "cell_type": "code",
   "execution_count": 5,
   "metadata": {
    "collapsed": true
   },
   "outputs": [],
   "source": [
    "import collections\n",
    "import matplotlib.pyplot as plt\n",
    "\n",
    "key_count = collections.Counter(raw_df['key']) # List of key count in dataset"
   ]
  },
  {
   "cell_type": "code",
   "execution_count": 6,
   "metadata": {},
   "outputs": [
    {
     "data": {
      "image/png": "[encoded data removed]",
      "text/plain": [
       "<matplotlib.figure.Figure at 0x23f5436be80>"
      ]
     },
     "metadata": {},
     "output_type": "display_data"
    },
    {
     "data": {
      "text/plain": [
       "<bound method Counter.most_common of Counter({'space': 29557, 'e': 17443, 'continuous': 15366, 't': 14658, 'a': 12361, 'i': 10861, 'o': 10084, 'n': 9276, 's': 8834, 'r': 8391, 'h': 6412, 'l': 6325, 'd': 6082, 'c': 4759, 'm': 4234, 'u': 4130, 'g': 3835, 'f': 3486, 'p': 3259, 'w': 2423, 'b': 2087, 'y': 1844, 'v': 1813, '.': 1711, ',': 1209, 'k': 903, 'backspace': 742, 'enter': 731, '-': 493, 'x': 477, 'z': 395, 'j': 272, 'shift': 267, \"'\": 219, 'q': 207, '0': 179, '1': 112, '2': 102, '5': 74, '9': 61, ';': 61, 'ctrl_l': 60, '3': 59, 'down': 38, 'delete': 38, '4': 35, '/': 29, '7': 26, '8': 26, '6': 24, 'esc': 17, 'left': 16, 'up': 10, 'right': 8, '=': 4, 'tab': 4, '`': 1})>"
      ]
     },
     "execution_count": 6,
     "metadata": {},
     "output_type": "execute_result"
    }
   ],
   "source": [
    "helper.plot_key_hist(key_count.most_common())\n",
    "key_count.most_common"
   ]
  },
  {
   "cell_type": "code",
   "execution_count": 7,
   "metadata": {},
   "outputs": [
    {
     "name": "stdout",
     "output_type": "stream",
     "text": [
      "Max Data Size: 83910, Class Count: 10, Threshold: 8390\n"
     ]
    }
   ],
   "source": [
    "# Maximize DataSet Size By Finding Optimal Threshold\n",
    "max_data_size, max_class_cnt, threshold_max = helper.get_optimized_threshold(key_count)\n",
    "print('Max Data Size: {}, Class Count: {}, Threshold: {}'.format(max_data_size, max_class_cnt, threshold_max))\n",
    "\n",
    "# OR, Manually define threshold\n",
    "#threshold_max = 3048"
   ]
  },
  {
   "cell_type": "markdown",
   "metadata": {},
   "source": [
    "#### Get Key Classes"
   ]
  },
  {
   "cell_type": "code",
   "execution_count": 8,
   "metadata": {
    "collapsed": true
   },
   "outputs": [],
   "source": [
    "# Get list of keys with counts greater than threshold\n",
    "threshold = threshold_max\n",
    "min_thresh_keys = [key for key, count in zip(key_count.keys(), key_count.values()) if count > threshold]\n",
    "\n",
    "# Save list of key classes to pickle\n",
    "pickle.dump(min_thresh_keys, open(os.path.join(dataset_dir, \"key_classes.p\"), \"wb\"))"
   ]
  },
  {
   "cell_type": "markdown",
   "metadata": {},
   "source": [
    "#### Filter Data Set"
   ]
  },
  {
   "cell_type": "code",
   "execution_count": 9,
   "metadata": {
    "collapsed": true
   },
   "outputs": [],
   "source": [
    "min_thresh_df = raw_df[raw_df['key'].isin(min_thresh_keys)] # Filter dataframe to only include keys > threshold"
   ]
  },
  {
   "cell_type": "code",
   "execution_count": 10,
   "metadata": {
    "collapsed": true
   },
   "outputs": [],
   "source": [
    "def trim_max_thresh(grouped_class):\n",
    "    return grouped_class.sample(threshold)"
   ]
  },
  {
   "cell_type": "code",
   "execution_count": 11,
   "metadata": {
    "collapsed": true
   },
   "outputs": [],
   "source": [
    "# Keep same number of samples in each class by throwing away everything past the threshold\n",
    "df = min_thresh_df.groupby(['key']).apply(trim_max_thresh)"
   ]
  },
  {
   "cell_type": "markdown",
   "metadata": {},
   "source": [
    "#### Plot truncated data"
   ]
  },
  {
   "cell_type": "code",
   "execution_count": 12,
   "metadata": {
    "collapsed": true
   },
   "outputs": [],
   "source": [
    "truncated_count = collections.Counter(df['key'])"
   ]
  },
  {
   "cell_type": "code",
   "execution_count": 13,
   "metadata": {},
   "outputs": [
    {
     "data": {
      "image/png": "[encoded data removed]",
      "text/plain": [
       "<matplotlib.figure.Figure at 0x240e1e43358>"
      ]
     },
     "metadata": {},
     "output_type": "display_data"
    }
   ],
   "source": [
    "helper.plot_trunc_key_cnt(key_count.most_common(), truncated_count.most_common())"
   ]
  },
  {
   "cell_type": "markdown",
   "metadata": {},
   "source": [
    "#### Shuffle data"
   ]
  },
  {
   "cell_type": "code",
   "execution_count": 14,
   "metadata": {
    "collapsed": true
   },
   "outputs": [],
   "source": [
    "df = df.sample(frac=1).reset_index(drop=True)"
   ]
  },
  {
   "cell_type": "markdown",
   "metadata": {},
   "source": [
    "### One Hot Encode Classes\n",
    "<img src=\"assets/one_hot_encoding.jpg\" style=\"width: 200px;\"/>"
   ]
  },
  {
   "cell_type": "code",
   "execution_count": 15,
   "metadata": {
    "collapsed": true
   },
   "outputs": [],
   "source": [
    "n_classes = len(set(df['key']))\n",
    "\n",
    "labels_str = [str(key) for key in df['key']]\n",
    "lb = preprocessing.LabelBinarizer() # Create encoder\n",
    "lb.fit(list(set(labels_str)))\n",
    "labels = lb.transform(labels_str)"
   ]
  },
  {
   "cell_type": "code",
   "execution_count": 16,
   "metadata": {},
   "outputs": [
    {
     "data": {
      "text/plain": [
       "array(['a', 'continuous', 'e', 'i', 'n', 'o', 'r', 's', 'space', 't'],\n",
       "      dtype='<U10')"
      ]
     },
     "execution_count": 16,
     "metadata": {},
     "output_type": "execute_result"
    }
   ],
   "source": [
    "lb.classes_"
   ]
  },
  {
   "cell_type": "code",
   "execution_count": 17,
   "metadata": {
    "collapsed": true
   },
   "outputs": [],
   "source": [
    "# Save label set\n",
    "pickle.dump(lb.classes_, open(os.path.join(dataset_dir, 'labels.p'), \"wb\"))"
   ]
  },
  {
   "cell_type": "markdown",
   "metadata": {},
   "source": [
    "### Cross Validation: Training, Validation, and Test Sets"
   ]
  },
  {
   "cell_type": "code",
   "execution_count": 18,
   "metadata": {
    "collapsed": true
   },
   "outputs": [],
   "source": [
    "input_data = df['data'].values\n",
    "input_data = np.stack(input_data, axis=0)"
   ]
  },
  {
   "cell_type": "code",
   "execution_count": 19,
   "metadata": {
    "collapsed": true
   },
   "outputs": [],
   "source": [
    "from sklearn.model_selection import train_test_split\n",
    "train_features, temp_features, train_labels, temp_labels = train_test_split(input_data, labels, test_size=0.1, random_state=42)\n",
    "test_features, valid_features, test_labels, valid_labels = train_test_split(temp_features, temp_labels, test_size=0.5, random_state=42)"
   ]
  },
  {
   "cell_type": "markdown",
   "metadata": {},
   "source": [
    "### Normalize Data\n",
    "Normalization should be performed on the training set. All other test sets should be normalized to parameters fit from the training set's scaler."
   ]
  },
  {
   "cell_type": "markdown",
   "metadata": {},
   "source": [
    "#### Normalize Training Set and Fit Scaler"
   ]
  },
  {
   "cell_type": "code",
   "execution_count": 20,
   "metadata": {},
   "outputs": [
    {
     "name": "stderr",
     "output_type": "stream",
     "text": [
      "C:\\Users\\stephen\\AppData\\Local\\conda\\conda\\envs\\tfgpu1.1\\lib\\site-packages\\sklearn\\utils\\validation.py:444: DataConversionWarning: Data with input dtype int16 was converted to float64 by MinMaxScaler.\n",
      "  warnings.warn(msg, DataConversionWarning)\n"
     ]
    }
   ],
   "source": [
    "\"\"\"\n",
    "Careful with MinMaxScaler. \n",
    "You specifically wan't to use the fit then transform or fit_transform function on the training set only.\n",
    "On any of the test cross validation sets or prediction data, you DON'T want to fit() or fit_transform().\n",
    "This would reset the fit of the scaler that we fit with the training set data.\n",
    "Use the transform() function on the test sets.\n",
    "\"\"\"\n",
    "scaler = preprocessing.MinMaxScaler(feature_range=(0,1))\n",
    "scaler.fit(train_features) # Compute the minimum and maximum to be used for later scaling.\n",
    "#train_features = scaler.fit_transform(train_features)\n",
    "train_features = scaler.transform(train_features)"
   ]
  },
  {
   "cell_type": "code",
   "execution_count": 21,
   "metadata": {},
   "outputs": [
    {
     "data": {
      "text/plain": [
       "(75510, 10240)"
      ]
     },
     "execution_count": 21,
     "metadata": {},
     "output_type": "execute_result"
    }
   ],
   "source": [
    "train_features.shape"
   ]
  },
  {
   "cell_type": "code",
   "execution_count": 22,
   "metadata": {},
   "outputs": [
    {
     "data": {
      "text/plain": [
       "(75510, 10240, 1)"
      ]
     },
     "execution_count": 22,
     "metadata": {},
     "output_type": "execute_result"
    }
   ],
   "source": [
    "# Reshape for 1 channel of audio data\n",
    "train_features = train_features.reshape((train_features.shape[0], train_features.shape[1], 1))\n",
    "# labels = labels.reshape((labels.shape[0], labels.shape[1], 1))\n",
    "train_features.shape"
   ]
  },
  {
   "cell_type": "code",
   "execution_count": 23,
   "metadata": {
    "collapsed": true
   },
   "outputs": [],
   "source": [
    "# Save scaler for later scaling on test sets. scaler.fit() saved the min max values\n",
    "pickle.dump(scaler, open(os.path.join(dataset_dir, 'scaler.p'), \"wb\"))"
   ]
  },
  {
   "cell_type": "markdown",
   "metadata": {},
   "source": [
    "#### Normalize Validation Set"
   ]
  },
  {
   "cell_type": "code",
   "execution_count": 24,
   "metadata": {
    "collapsed": true
   },
   "outputs": [],
   "source": [
    "valid_features = scaler.transform(valid_features) # Don't use fit_transform() on test sets, use transform()\n",
    "\n",
    "# Reshape for 1 channel of audio data\n",
    "valid_features = valid_features.reshape((valid_features.shape[0], valid_features.shape[1], 1))"
   ]
  },
  {
   "cell_type": "markdown",
   "metadata": {},
   "source": [
    "# Define Network"
   ]
  },
  {
   "cell_type": "markdown",
   "metadata": {},
   "source": [
    "### Input"
   ]
  },
  {
   "cell_type": "code",
   "execution_count": 25,
   "metadata": {
    "collapsed": true
   },
   "outputs": [],
   "source": [
    "def model_inputs(data_width, n_classes):\n",
    "    \"\"\"\n",
    "    Create the model inputs\n",
    "    :param data_width: The total number of samples in the recorded data point\n",
    "    :param n_classes: Number of Classes\n",
    "    :return: Tuple of (tensor of input audio data, key press labels, learning rate, keep_prob)\n",
    "    \"\"\"\n",
    "    # TODO: Add audio channels to input\n",
    "    \n",
    "    with tf.name_scope(\"Inputs\"):\n",
    "        audio_inputs = tf.placeholder(tf.float32, [None, data_width, 1], name='inputs')\n",
    "    with tf.name_scope(\"Targets\"):\n",
    "        key_labels = tf.placeholder(tf.float32, [None, n_classes], name='labels')\n",
    "    learning_rate = tf.placeholder(tf.float32, name='learning_rate')\n",
    "    keep_prob = tf.placeholder(tf.float32, name='keep_probability')\n",
    "\n",
    "    return audio_inputs, key_labels, learning_rate, keep_prob"
   ]
  },
  {
   "cell_type": "markdown",
   "metadata": {},
   "source": [
    "### Get Batches"
   ]
  },
  {
   "cell_type": "code",
   "execution_count": 26,
   "metadata": {
    "collapsed": true
   },
   "outputs": [],
   "source": [
    "def get_batches(features, labels, batch_size):\n",
    "    \"\"\"\n",
    "    Split features and labels into batches\n",
    "    \"\"\"\n",
    "    for start in range(0, len(features), batch_size):\n",
    "        end = min(start + batch_size, len(features))\n",
    "        yield features[start:end], labels[start:end]"
   ]
  },
  {
   "cell_type": "markdown",
   "metadata": {},
   "source": [
    "### Network"
   ]
  },
  {
   "cell_type": "code",
   "execution_count": 27,
   "metadata": {
    "collapsed": true
   },
   "outputs": [],
   "source": [
    "def network(X, keep_prob, n_classes):\n",
    "    \"\"\"\n",
    "    Create the network\n",
    "    :param X: Tensor of input recording(s)\n",
    "    :param keep_prob: Tensor for the keep probability\n",
    "    :param n_classes: Number of Classes\n",
    "    :return: Tuple of (tensor output of the classifier, tensor logits of the classifier)\n",
    "    \"\"\"    \n",
    "    # Hyperparameters\n",
    "    alpha = 0.2\n",
    "    h_dim = 32\n",
    "    \n",
    "    #print(\"X: {}\".format(X.shape))\n",
    "     \n",
    "    with tf.name_scope(\"Hidden_Layer1\"):\n",
    "        #h1 = tf.layers.dense(X, h_dim, activation=None)\n",
    "        h1 = tf.layers.conv1d(X, h_dim, 200, 10, 'same', activation=None)\n",
    "        h1 = tf.layers.max_pooling1d(h1, 5, 2, 'same')\n",
    "        h1 = tf.nn.dropout(h1, keep_prob) # Regularization\n",
    "        h1 = tf.maximum(h1*alpha, h1) # Leaky ReLu\n",
    "        h1 = tf.layers.batch_normalization(h1)\n",
    "        \n",
    "    #print(\"h1: {}\".format(h1.shape))\n",
    "\n",
    "    with tf.name_scope(\"Hidden_Layer2\"):\n",
    "        #h2 = tf.layers.dense(h1, h_dim, activation=None)\n",
    "        h2 = tf.layers.conv1d(h1, h_dim*2, 50, 5, 'same', activation=None)\n",
    "        #h2 = tf.layers.maxpool2d(h2, 5, 2, 'same')\n",
    "        h2 = tf.nn.dropout(h2, keep_prob) # Regularization        \n",
    "        h2 = tf.maximum(h2*alpha, h2) # Leaky ReLu\n",
    "        h2 = tf.layers.batch_normalization(h2)\n",
    "        \n",
    "    #print(\"h2: {}\".format(h2.shape))\n",
    "\n",
    "    with tf.name_scope(\"Hidden_Layer3\"):\n",
    "        #h3 = tf.layers.dense(h2, h_dim, activation=None)\n",
    "        h3 = tf.layers.conv1d(h2, h_dim*3, 20, 2, 'same', activation=None)\n",
    "        #h3 = tf.layers.maxpool2d(h3, 3, 2, 'same')\n",
    "        h3 = tf.nn.dropout(h3, keep_prob) # Regularization\n",
    "        h3 = tf.maximum(h3*alpha, h3) # Leaky ReLu\n",
    "        h3 = tf.layers.batch_normalization(h3)\n",
    "        \n",
    "    with tf.name_scope(\"Hidden_Layer4\"):\n",
    "        h4 = tf.layers.conv1d(h3, h_dim*4, 10, 1, 'same', activation=None)\n",
    "        h4 = tf.nn.dropout(h4, keep_prob) # Regularization\n",
    "        h4 = tf.maximum(h4*alpha, h4) # Leaky ReLu\n",
    "        h4 = tf.layers.batch_normalization(h4)\n",
    "    \n",
    "    \n",
    "    \n",
    "    with tf.name_scope(\"Output\"):\n",
    "        flat_dim = int(h4.get_shape()[1])*int(h4.get_shape()[2])\n",
    "        flat = tf.reshape(h4, [-1, flat_dim])\n",
    "        #print(\"flat: {}\".format(flat.shape))\n",
    "        logits = tf.layers.dense(flat, n_classes, activation=None, name='logits')\n",
    "        #print(\"logits: {}\".format(logits.shape))\n",
    "        #out = tf.nn.softmax(logits, name='softmax_out')\n",
    "\n",
    "    return logits"
   ]
  },
  {
   "cell_type": "markdown",
   "metadata": {},
   "source": [
    "### Show Stats"
   ]
  },
  {
   "cell_type": "code",
   "execution_count": 28,
   "metadata": {
    "collapsed": true
   },
   "outputs": [],
   "source": [
    "def print_stats(session, feature_batch, label_batch, cost, accuracy, esi):\n",
    "    \"\"\"\n",
    "    Print information about loss and validation accuracy\n",
    "    : session: Current TensorFlow session\n",
    "    : feature_batch: Batch of Numpy image data\n",
    "    : label_batch: Batch of Numpy label data\n",
    "    : cost: TensorFlow cost function\n",
    "    : accuracy: TensorFlow accuracy function\n",
    "    : esi: Epochs since the last improvement\n",
    "    \"\"\"\n",
    "    with tf.name_scope(\"Validation_Stats\"):\n",
    "        valid_trunc_len = min(1000, len(valid_features))\n",
    "        train_trunc_len = min(1000, len(train_features))\n",
    "        \n",
    "        validation_loss = session.run(cost, feed_dict={x: feature_batch, y: label_batch, keep_prob: 1.0})\n",
    "        validation_accuracy = session.run(accuracy, feed_dict={x: valid_features[:valid_trunc_len], y: valid_labels[:valid_trunc_len], keep_prob: 1.0})\n",
    "        train_accuracy = session.run(accuracy, feed_dict={x: train_features[:train_trunc_len], y: train_labels[:train_trunc_len], keep_prob: 1.0})\n",
    "        print(\"Train Accuracy: {0:0.4f}, Validation Accuracy: {1:0.4f}, Validation Loss: {2:0.4f}, ESI: {3}\".format(train_accuracy, validation_accuracy, validation_loss, esi))\n",
    "        return validation_accuracy"
   ]
  },
  {
   "cell_type": "markdown",
   "metadata": {},
   "source": [
    "### Build Neural Network"
   ]
  },
  {
   "cell_type": "code",
   "execution_count": 29,
   "metadata": {
    "collapsed": true
   },
   "outputs": [],
   "source": [
    "# Remove previous weights, bias, inputs, etc..\n",
    "tf.reset_default_graph()\n",
    "\n",
    "# Inputs\n",
    "x, y, learn_rate, keep_prob = model_inputs(data_width, n_classes)\n",
    "\n",
    "#Model\n",
    "logits = network(x, keep_prob, n_classes)\n",
    "\n",
    "with tf.name_scope(\"Cost\"):\n",
    "    # Cost and Optimizer\n",
    "    cost = tf.reduce_mean(tf.nn.softmax_cross_entropy_with_logits(logits=logits, labels=y, name='loss'), name='cost')\n",
    "    \n",
    "with tf.name_scope(\"Train\"):\n",
    "    optimizer = tf.train.AdamOptimizer(learn_rate, name='optimizer').minimize(cost)\n",
    "\n",
    "with tf.name_scope(\"Accuracy\"):\n",
    "    # Accuracy\n",
    "    correct_pred = tf.equal(tf.argmax(logits, 1), tf.argmax(y, 1), name='prediction')\n",
    "    accuracy = tf.reduce_mean(tf.cast(correct_pred, tf.float32), name='accuracy')\n",
    "    \n",
    "predicted = tf.nn.softmax(logits, name='predicted')"
   ]
  },
  {
   "cell_type": "markdown",
   "metadata": {},
   "source": [
    "### Write out the graph for TensorBoard"
   ]
  },
  {
   "cell_type": "code",
   "execution_count": 30,
   "metadata": {
    "collapsed": true
   },
   "outputs": [],
   "source": [
    "with tf.Session() as sess:\n",
    "    sess.run(tf.global_variables_initializer())\n",
    "    file_writer = tf.summary.FileWriter('./logs/2', sess.graph)"
   ]
  },
  {
   "cell_type": "markdown",
   "metadata": {},
   "source": [
    "### Hyperparameters"
   ]
  },
  {
   "cell_type": "code",
   "execution_count": 38,
   "metadata": {
    "collapsed": true
   },
   "outputs": [],
   "source": [
    "epochs = 50000000\n",
    "batch_size = 16\n",
    "keep_probability = 0.60\n",
    "learning_rate = 0.0001"
   ]
  },
  {
   "cell_type": "markdown",
   "metadata": {},
   "source": [
    "# Train Neural Network"
   ]
  },
  {
   "cell_type": "code",
   "execution_count": 39,
   "metadata": {},
   "outputs": [
    {
     "name": "stdout",
     "output_type": "stream",
     "text": [
      "10.0%\n"
     ]
    }
   ],
   "source": [
    "# Accuracy to beat (Min of 3 classes)\n",
    "print(\"{:.3}%\".format((1/n_classes)*100))"
   ]
  },
  {
   "cell_type": "code",
   "execution_count": null,
   "metadata": {
    "scrolled": true
   },
   "outputs": [
    {
     "name": "stdout",
     "output_type": "stream",
     "text": [
      "INFO:tensorflow:Restoring parameters from checkpoints/model.ckpt\n",
      "Epoch 0: Train Accuracy: 0.5880, Validation Accuracy: 0.5740, Validation Loss: 1.5372, ESI: 0\n",
      "Epoch 1: Train Accuracy: 0.5860, Validation Accuracy: 0.5740, Validation Loss: 1.5880, ESI: 0\n",
      "Epoch 2: Train Accuracy: 0.5840, Validation Accuracy: 0.5720, Validation Loss: 1.4929, ESI: 1\n",
      "Epoch 3: Train Accuracy: 0.5880, Validation Accuracy: 0.5810, Validation Loss: 1.6795, ESI: 2\n",
      "Epoch 4: Train Accuracy: 0.5930, Validation Accuracy: 0.5700, Validation Loss: 1.5493, ESI: 0\n",
      "Epoch 5: Train Accuracy: 0.5890, Validation Accuracy: 0.5650, Validation Loss: 1.7520, ESI: 1\n",
      "Epoch 6: Train Accuracy: 0.5760, Validation Accuracy: 0.5710, Validation Loss: 1.6257, ESI: 2\n",
      "Epoch 7: Train Accuracy: 0.5930, Validation Accuracy: 0.5720, Validation Loss: 1.6177, ESI: 3\n",
      "Epoch 8: Train Accuracy: 0.5820, Validation Accuracy: 0.5690, Validation Loss: 1.6509, ESI: 4\n",
      "Epoch 9: Train Accuracy: 0.5780, Validation Accuracy: 0.5590, Validation Loss: 1.5930, ESI: 5\n",
      "Epoch 10: Train Accuracy: 0.5880, Validation Accuracy: 0.5820, Validation Loss: 1.6748, ESI: 6\n",
      "Epoch 11: Train Accuracy: 0.5880, Validation Accuracy: 0.5820, Validation Loss: 1.6506, ESI: 0\n",
      "Epoch 12: Train Accuracy: 0.5740, Validation Accuracy: 0.5640, Validation Loss: 1.6824, ESI: 1\n",
      "Epoch 13: Train Accuracy: 0.5870, Validation Accuracy: 0.5710, Validation Loss: 1.7842, ESI: 2\n",
      "Epoch 14: Train Accuracy: 0.5910, Validation Accuracy: 0.5740, Validation Loss: 1.6600, ESI: 3\n",
      "Epoch 15: Train Accuracy: 0.5830, Validation Accuracy: 0.5720, Validation Loss: 1.7229, ESI: 4\n",
      "Epoch 16: Train Accuracy: 0.5920, Validation Accuracy: 0.5790, Validation Loss: 1.6291, ESI: 5\n",
      "Epoch 17: Train Accuracy: 0.5850, Validation Accuracy: 0.5760, Validation Loss: 1.6691, ESI: 6\n",
      "Epoch 18: Train Accuracy: 0.5910, Validation Accuracy: 0.5720, Validation Loss: 1.6366, ESI: 7\n",
      "Epoch 19: Train Accuracy: 0.5740, Validation Accuracy: 0.5680, Validation Loss: 1.6902, ESI: 8\n",
      "Epoch 20: Train Accuracy: 0.5910, Validation Accuracy: 0.5700, Validation Loss: 1.5436, ESI: 9\n",
      "Epoch 21: Train Accuracy: 0.5880, Validation Accuracy: 0.5790, Validation Loss: 1.6672, ESI: 10\n",
      "Epoch 22: Train Accuracy: 0.5800, Validation Accuracy: 0.5710, Validation Loss: 1.6820, ESI: 11\n",
      "Epoch 23: Train Accuracy: 0.5830, Validation Accuracy: 0.5780, Validation Loss: 1.6066, ESI: 12\n",
      "Epoch 24: Train Accuracy: 0.5830, Validation Accuracy: 0.5660, Validation Loss: 1.6538, ESI: 13\n",
      "Epoch 25: Train Accuracy: 0.5890, Validation Accuracy: 0.5730, Validation Loss: 1.5740, ESI: 14\n",
      "Epoch 26: Train Accuracy: 0.5880, Validation Accuracy: 0.5710, Validation Loss: 1.6840, ESI: 15\n",
      "Epoch 27: Train Accuracy: 0.5880, Validation Accuracy: 0.5660, Validation Loss: 1.7118, ESI: 16\n",
      "Epoch 28: Train Accuracy: 0.5800, Validation Accuracy: 0.5780, Validation Loss: 1.4771, ESI: 17\n",
      "Epoch 29: Train Accuracy: 0.5820, Validation Accuracy: 0.5720, Validation Loss: 1.7446, ESI: 18\n",
      "Epoch 30: Train Accuracy: 0.5850, Validation Accuracy: 0.5760, Validation Loss: 1.5323, ESI: 19\n",
      "Epoch 31: Train Accuracy: 0.5900, Validation Accuracy: 0.5740, Validation Loss: 1.6521, ESI: 20\n",
      "Epoch 32: Train Accuracy: 0.5880, Validation Accuracy: 0.5690, Validation Loss: 1.7425, ESI: 21\n",
      "Epoch 33: Train Accuracy: 0.5820, Validation Accuracy: 0.5670, Validation Loss: 1.6224, ESI: 22\n",
      "Epoch 34: Train Accuracy: 0.5880, Validation Accuracy: 0.5750, Validation Loss: 1.6514, ESI: 23\n",
      "Epoch 35: Train Accuracy: 0.5840, Validation Accuracy: 0.5780, Validation Loss: 1.7631, ESI: 24\n",
      "Epoch 36: Train Accuracy: 0.5860, Validation Accuracy: 0.5640, Validation Loss: 1.6541, ESI: 25\n",
      "Epoch 37: Train Accuracy: 0.5830, Validation Accuracy: 0.5710, Validation Loss: 1.6655, ESI: 26\n",
      "Epoch 38: Train Accuracy: 0.5840, Validation Accuracy: 0.5720, Validation Loss: 1.6352, ESI: 27\n",
      "Epoch 39: Train Accuracy: 0.5730, Validation Accuracy: 0.5620, Validation Loss: 1.6987, ESI: 28\n",
      "Epoch 40: Train Accuracy: 0.5850, Validation Accuracy: 0.5740, Validation Loss: 1.5596, ESI: 29\n",
      "Epoch 41: Train Accuracy: 0.5870, Validation Accuracy: 0.5680, Validation Loss: 1.6157, ESI: 30\n",
      "Epoch 42: Train Accuracy: 0.5920, Validation Accuracy: 0.5750, Validation Loss: 1.5691, ESI: 31\n",
      "Epoch 43: Train Accuracy: 0.5930, Validation Accuracy: 0.5740, Validation Loss: 1.6117, ESI: 32\n",
      "Epoch 44: Train Accuracy: 0.5910, Validation Accuracy: 0.5740, Validation Loss: 1.5754, ESI: 33\n",
      "Epoch 45: Train Accuracy: 0.5840, Validation Accuracy: 0.5780, Validation Loss: 1.6644, ESI: 34\n",
      "Epoch 46: Train Accuracy: 0.5850, Validation Accuracy: 0.5790, Validation Loss: 1.7561, ESI: 35\n",
      "Epoch 47: Train Accuracy: 0.5840, Validation Accuracy: 0.5730, Validation Loss: 1.6300, ESI: 36\n",
      "Epoch 48: Train Accuracy: 0.5830, Validation Accuracy: 0.5710, Validation Loss: 1.6426, ESI: 37\n",
      "Epoch 49: Train Accuracy: 0.5870, Validation Accuracy: 0.5670, Validation Loss: 1.6166, ESI: 38\n",
      "Epoch 50: Train Accuracy: 0.5890, Validation Accuracy: 0.5690, Validation Loss: 1.5861, ESI: 39\n",
      "Epoch 51: Train Accuracy: 0.5890, Validation Accuracy: 0.5750, Validation Loss: 1.6447, ESI: 40\n",
      "Epoch 52: Train Accuracy: 0.5910, Validation Accuracy: 0.5660, Validation Loss: 1.5211, ESI: 41\n",
      "Epoch 53: Train Accuracy: 0.5840, Validation Accuracy: 0.5700, Validation Loss: 1.6482, ESI: 42\n",
      "Epoch 54: Train Accuracy: 0.5930, Validation Accuracy: 0.5820, Validation Loss: 1.5930, ESI: 43\n",
      "Epoch 55: Train Accuracy: 0.5960, Validation Accuracy: 0.5720, Validation Loss: 1.6384, ESI: 44\n",
      "Epoch 56: Train Accuracy: 0.5780, Validation Accuracy: 0.5640, Validation Loss: 1.7197, ESI: 45\n",
      "Epoch 57: Train Accuracy: 0.5920, Validation Accuracy: 0.5740, Validation Loss: 1.6004, ESI: 46\n",
      "Epoch 58: Train Accuracy: 0.5790, Validation Accuracy: 0.5690, Validation Loss: 1.7450, ESI: 47\n",
      "Epoch 59: Train Accuracy: 0.5880, Validation Accuracy: 0.5760, Validation Loss: 1.6059, ESI: 48\n",
      "Epoch 60: Train Accuracy: 0.5900, Validation Accuracy: 0.5800, Validation Loss: 1.6738, ESI: 49\n",
      "Epoch 61: Train Accuracy: 0.5820, Validation Accuracy: 0.5690, Validation Loss: 1.5891, ESI: 50\n",
      "Epoch 62: Train Accuracy: 0.5930, Validation Accuracy: 0.5720, Validation Loss: 1.6164, ESI: 51\n",
      "Epoch 63: Train Accuracy: 0.5890, Validation Accuracy: 0.5730, Validation Loss: 1.5914, ESI: 52\n",
      "Epoch 64: Train Accuracy: 0.5890, Validation Accuracy: 0.5700, Validation Loss: 1.6707, ESI: 53\n",
      "Epoch 65: Train Accuracy: 0.5920, Validation Accuracy: 0.5600, Validation Loss: 1.6407, ESI: 54\n",
      "Epoch 66: Train Accuracy: 0.5960, Validation Accuracy: 0.5750, Validation Loss: 1.5388, ESI: 55\n",
      "Epoch 67: Train Accuracy: 0.5940, Validation Accuracy: 0.5710, Validation Loss: 1.6388, ESI: 56\n",
      "Epoch 68: Train Accuracy: 0.5920, Validation Accuracy: 0.5650, Validation Loss: 1.5925, ESI: 57\n",
      "Epoch 69: Train Accuracy: 0.5910, Validation Accuracy: 0.5640, Validation Loss: 1.6105, ESI: 58\n",
      "Epoch 70: Train Accuracy: 0.5920, Validation Accuracy: 0.5720, Validation Loss: 1.6164, ESI: 59\n",
      "Epoch 71: Train Accuracy: 0.5870, Validation Accuracy: 0.5640, Validation Loss: 1.6741, ESI: 60\n",
      "Epoch 72: Train Accuracy: 0.5750, Validation Accuracy: 0.5650, Validation Loss: 1.7288, ESI: 61\n",
      "Epoch 73: Train Accuracy: 0.5920, Validation Accuracy: 0.5720, Validation Loss: 1.5932, ESI: 62\n",
      "Epoch 74: Train Accuracy: 0.5880, Validation Accuracy: 0.5720, Validation Loss: 1.5943, ESI: 63\n",
      "Epoch 75: Train Accuracy: 0.5830, Validation Accuracy: 0.5580, Validation Loss: 1.5955, ESI: 64\n",
      "Epoch 76: Train Accuracy: 0.5930, Validation Accuracy: 0.5690, Validation Loss: 1.6812, ESI: 65\n",
      "Epoch 77: Train Accuracy: 0.5890, Validation Accuracy: 0.5710, Validation Loss: 1.6578, ESI: 66\n",
      "Epoch 78: Train Accuracy: 0.5790, Validation Accuracy: 0.5640, Validation Loss: 1.6075, ESI: 67\n",
      "Epoch 79: Train Accuracy: 0.6030, Validation Accuracy: 0.5770, Validation Loss: 1.6406, ESI: 68\n",
      "Epoch 80: Train Accuracy: 0.5950, Validation Accuracy: 0.5650, Validation Loss: 1.6603, ESI: 69\n",
      "Epoch 81: Train Accuracy: 0.5910, Validation Accuracy: 0.5660, Validation Loss: 1.5016, ESI: 70\n",
      "Epoch 82: Train Accuracy: 0.5960, Validation Accuracy: 0.5680, Validation Loss: 1.5957, ESI: 71\n",
      "Epoch 83: Train Accuracy: 0.5870, Validation Accuracy: 0.5800, Validation Loss: 1.6470, ESI: 72\n",
      "Epoch 84: Train Accuracy: 0.5820, Validation Accuracy: 0.5790, Validation Loss: 1.6153, ESI: 73\n"
     ]
    },
    {
     "name": "stdout",
     "output_type": "stream",
     "text": [
      "Epoch 85: Train Accuracy: 0.5860, Validation Accuracy: 0.5640, Validation Loss: 1.3891, ESI: 74\n",
      "Epoch 86: Train Accuracy: 0.5950, Validation Accuracy: 0.5700, Validation Loss: 1.5667, ESI: 75\n",
      "Epoch 87: Train Accuracy: 0.5880, Validation Accuracy: 0.5640, Validation Loss: 1.6581, ESI: 76\n",
      "Epoch 88: Train Accuracy: 0.5880, Validation Accuracy: 0.5730, Validation Loss: 1.6311, ESI: 77\n",
      "Epoch 89: Train Accuracy: 0.5950, Validation Accuracy: 0.5710, Validation Loss: 1.5984, ESI: 78\n",
      "Epoch 90: Train Accuracy: 0.5890, Validation Accuracy: 0.5760, Validation Loss: 1.5382, ESI: 79\n",
      "Epoch 91: Train Accuracy: 0.5960, Validation Accuracy: 0.5750, Validation Loss: 1.5798, ESI: 80\n",
      "Epoch 92: Train Accuracy: 0.5900, Validation Accuracy: 0.5720, Validation Loss: 1.6674, ESI: 81\n",
      "Epoch 93: Train Accuracy: 0.5940, Validation Accuracy: 0.5700, Validation Loss: 1.5752, ESI: 82\n",
      "Epoch 94: Train Accuracy: 0.5850, Validation Accuracy: 0.5760, Validation Loss: 1.6515, ESI: 83\n",
      "Epoch 95: Train Accuracy: 0.5940, Validation Accuracy: 0.5680, Validation Loss: 1.5624, ESI: 84\n",
      "Epoch 96: Train Accuracy: 0.5910, Validation Accuracy: 0.5710, Validation Loss: 1.5575, ESI: 85\n",
      "Epoch 97: Train Accuracy: 0.5940, Validation Accuracy: 0.5770, Validation Loss: 1.4891, ESI: 86\n",
      "Epoch 98: Train Accuracy: 0.5880, Validation Accuracy: 0.5750, Validation Loss: 1.6142, ESI: 87\n",
      "Epoch 99: Train Accuracy: 0.5920, Validation Accuracy: 0.5750, Validation Loss: 1.6511, ESI: 88\n",
      "Epoch 100: Train Accuracy: 0.5830, Validation Accuracy: 0.5690, Validation Loss: 1.7018, ESI: 89\n",
      "Epoch 101: Train Accuracy: 0.5840, Validation Accuracy: 0.5810, Validation Loss: 1.7126, ESI: 90\n",
      "Epoch 102: Train Accuracy: 0.5940, Validation Accuracy: 0.5740, Validation Loss: 1.6476, ESI: 91\n",
      "Epoch 103: Train Accuracy: 0.5950, Validation Accuracy: 0.5690, Validation Loss: 1.6414, ESI: 92\n",
      "Epoch 104: Train Accuracy: 0.5880, Validation Accuracy: 0.5670, Validation Loss: 1.6578, ESI: 93\n",
      "Epoch 105: Train Accuracy: 0.5920, Validation Accuracy: 0.5630, Validation Loss: 1.6777, ESI: 94\n",
      "Epoch 106: Train Accuracy: 0.5830, Validation Accuracy: 0.5720, Validation Loss: 1.5722, ESI: 95\n",
      "Epoch 107: Train Accuracy: 0.5910, Validation Accuracy: 0.5730, Validation Loss: 1.5919, ESI: 96\n",
      "Epoch 108: Train Accuracy: 0.5830, Validation Accuracy: 0.5670, Validation Loss: 1.7664, ESI: 97\n",
      "Epoch 109: Train Accuracy: 0.5910, Validation Accuracy: 0.5730, Validation Loss: 1.5645, ESI: 98\n",
      "Epoch 110: Train Accuracy: 0.5860, Validation Accuracy: 0.5740, Validation Loss: 1.6538, ESI: 99\n",
      "Epoch 111: Train Accuracy: 0.5880, Validation Accuracy: 0.5590, Validation Loss: 1.6972, ESI: 100\n",
      "Epoch 112: Train Accuracy: 0.5910, Validation Accuracy: 0.5640, Validation Loss: 1.5791, ESI: 101\n",
      "Epoch 113: Train Accuracy: 0.5930, Validation Accuracy: 0.5680, Validation Loss: 1.6225, ESI: 102\n",
      "Epoch 114: Train Accuracy: 0.5910, Validation Accuracy: 0.5790, Validation Loss: 1.4984, ESI: 103\n",
      "Epoch 115: Train Accuracy: 0.5920, Validation Accuracy: 0.5750, Validation Loss: 1.6192, ESI: 104\n",
      "Epoch 116: Train Accuracy: 0.5940, Validation Accuracy: 0.5760, Validation Loss: 1.6434, ESI: 105\n",
      "Epoch 117: Train Accuracy: 0.5990, Validation Accuracy: 0.5790, Validation Loss: 1.5939, ESI: 106\n",
      "Epoch 118: Train Accuracy: 0.5880, Validation Accuracy: 0.5700, Validation Loss: 1.6142, ESI: 107\n",
      "Epoch 119: Train Accuracy: 0.5790, Validation Accuracy: 0.5730, Validation Loss: 1.6464, ESI: 108\n",
      "Epoch 120: Train Accuracy: 0.5850, Validation Accuracy: 0.5760, Validation Loss: 1.5632, ESI: 109\n",
      "Epoch 121: Train Accuracy: 0.5860, Validation Accuracy: 0.5750, Validation Loss: 1.6025, ESI: 110\n",
      "Epoch 122: Train Accuracy: 0.5950, Validation Accuracy: 0.5810, Validation Loss: 1.5447, ESI: 111\n",
      "Epoch 123: Train Accuracy: 0.5930, Validation Accuracy: 0.5730, Validation Loss: 1.5447, ESI: 112\n",
      "Epoch 124: Train Accuracy: 0.5930, Validation Accuracy: 0.5730, Validation Loss: 1.5011, ESI: 113\n",
      "Epoch 125: Train Accuracy: 0.5870, Validation Accuracy: 0.5820, Validation Loss: 1.5444, ESI: 114\n",
      "Epoch 126: Train Accuracy: 0.6040, Validation Accuracy: 0.5650, Validation Loss: 1.5094, ESI: 115\n",
      "Epoch 127: Train Accuracy: 0.5940, Validation Accuracy: 0.5740, Validation Loss: 1.5949, ESI: 116\n",
      "Epoch 128: Train Accuracy: 0.5980, Validation Accuracy: 0.5800, Validation Loss: 1.5647, ESI: 117\n",
      "Epoch 129: Train Accuracy: 0.5920, Validation Accuracy: 0.5790, Validation Loss: 1.5284, ESI: 118\n",
      "Epoch 130: Train Accuracy: 0.5900, Validation Accuracy: 0.5730, Validation Loss: 1.5687, ESI: 119\n",
      "Epoch 131: Train Accuracy: 0.5880, Validation Accuracy: 0.5710, Validation Loss: 1.5463, ESI: 120\n"
     ]
    }
   ],
   "source": [
    "save_path = \"checkpoints/model.ckpt\"\n",
    "\n",
    "max_validation_accuracy = 0.0\n",
    "epochs_since_improvement = 0\n",
    "saver = tf.train.Saver()\n",
    "with tf.Session() as sess:  \n",
    "    sess.run(tf.global_variables_initializer())\n",
    "    \n",
    "    # If we want to continue training a previous session\n",
    "    saver.restore(sess, save_path)\n",
    "    \n",
    "    # Training cycle\n",
    "    for epoch in range(epochs):\n",
    "        # Loop over all batches\n",
    "        for batch_features, batch_labels in get_batches(train_features, train_labels, batch_size):\n",
    "            sess.run(optimizer, feed_dict={x: batch_features, \n",
    "                                           y: batch_labels, \n",
    "                                           learn_rate: learning_rate, \n",
    "                                           keep_prob: keep_probability})\n",
    "        if epoch % 1 == 0:\n",
    "            print('Epoch {}: '.format(epoch), end='')\n",
    "            validation_accuracy = print_stats(sess, batch_features, batch_labels, cost, accuracy, epochs_since_improvement)         \n",
    "        \n",
    "            if validation_accuracy > max_validation_accuracy:\n",
    "                max_validation_accuracy = validation_accuracy\n",
    "                epochs_since_improvement = 0\n",
    "                saver.save(sess, save_path)\n",
    "            else:\n",
    "                epochs_since_improvement += 1"
   ]
  },
  {
   "cell_type": "markdown",
   "metadata": {},
   "source": [
    "# Test Set Accuracy"
   ]
  },
  {
   "cell_type": "code",
   "execution_count": 37,
   "metadata": {
    "collapsed": true
   },
   "outputs": [],
   "source": [
    "scaler = pickle.load(open(os.path.join(dataset_dir, 'scaler.p'), \"rb\")) # Load saved normalization scaler\n",
    "normalized_data = scaler.transform(test_features) # Don't use fit_transform on test sets\n",
    "\n",
    "# Reshape for 1 channel of audio data\n",
    "normalized_data = normalized_data.reshape((normalized_data.shape[0], normalized_data.shape[1], 1))"
   ]
  },
  {
   "cell_type": "code",
   "execution_count": 38,
   "metadata": {},
   "outputs": [
    {
     "name": "stdout",
     "output_type": "stream",
     "text": [
      "INFO:tensorflow:Restoring parameters from checkpoints\\model.ckpt\n",
      "Test Accuracy: 0.596\n"
     ]
    }
   ],
   "source": [
    "tf.reset_default_graph()\n",
    "\n",
    "loader = tf.train.import_meta_graph('checkpoints/model.ckpt.meta')\n",
    "with tf.Session() as sess:\n",
    "    loader.restore(sess, tf.train.latest_checkpoint('checkpoints'))\n",
    "    \n",
    "    graph = tf.get_default_graph()\n",
    "    \n",
    "    x = graph.get_tensor_by_name(\"Inputs/inputs:0\")\n",
    "    y = graph.get_tensor_by_name(\"Targets/labels:0\")\n",
    "    keep_prob = graph.get_tensor_by_name(\"keep_probability:0\")\n",
    "    accuracy = graph.get_tensor_by_name(\"Accuracy/accuracy:0\")\n",
    "    \n",
    "    test_accuracy = sess.run(accuracy, feed_dict={x: normalized_data, y: test_labels, keep_prob: 1.0})\n",
    "    print(\"Test Accuracy: {0:0.3f}\".format(test_accuracy))\n",
    "        "
   ]
  },
  {
   "cell_type": "markdown",
   "metadata": {
    "collapsed": true
   },
   "source": [
    "# Test Model"
   ]
  },
  {
   "cell_type": "code",
   "execution_count": 3,
   "metadata": {
    "collapsed": true
   },
   "outputs": [],
   "source": [
    "test_set = pd.read_pickle(os.path.join(dataset_dir, \"test_set.pkl\"))\n",
    "min_thresh_keys = pickle.load(open(os.path.join(dataset_dir, \"key_classes.p\"), \"rb\"))\n",
    "test_set = test_set[test_set['key'].isin(min_thresh_keys)] # Filter dataframe to only include keys > threshold\n",
    "data_width = len(test_set['data'].values[0])"
   ]
  },
  {
   "cell_type": "code",
   "execution_count": 4,
   "metadata": {
    "collapsed": true
   },
   "outputs": [],
   "source": [
    "# input_data = test_set['data'].values[5:6]\n",
    "# input_data = np.stack(input_data, axis=0)\n",
    "\n",
    "# scaler = pickle.load(open(os.path.join(dataset_dir, 'scaler.p'), \"rb\"))\n",
    "# normalized_data = scaler.transform(input_data)\n",
    "\n",
    "# # Reshape for 1 channel of audio data\n",
    "# normalized_data = normalized_data.reshape((normalized_data.shape[0], normalized_data.shape[1], 1))"
   ]
  },
  {
   "cell_type": "code",
   "execution_count": null,
   "metadata": {
    "collapsed": true
   },
   "outputs": [],
   "source": []
  },
  {
   "cell_type": "code",
   "execution_count": null,
   "metadata": {
    "collapsed": true
   },
   "outputs": [],
   "source": []
  },
  {
   "cell_type": "code",
   "execution_count": 5,
   "metadata": {
    "collapsed": true
   },
   "outputs": [],
   "source": [
    "input_data = test_set['data'].values\n",
    "input_data = np.stack(input_data, axis=0)\n",
    "\n",
    "scaler = pickle.load(open(os.path.join(dataset_dir, 'scaler.p'), \"rb\"))\n",
    "normalized_data = scaler.transform(input_data)\n",
    "\n",
    "normalized_data = normalized_data.reshape((normalized_data.shape[0], normalized_data.shape[1], 1))"
   ]
  },
  {
   "cell_type": "code",
   "execution_count": 6,
   "metadata": {},
   "outputs": [
    {
     "name": "stdout",
     "output_type": "stream",
     "text": [
      "INFO:tensorflow:Restoring parameters from checkpoints\\model.ckpt\n"
     ]
    }
   ],
   "source": [
    "loader = tf.train.import_meta_graph('checkpoints/model.ckpt.meta')\n",
    "with tf.Session() as sess:\n",
    "    loader.restore(sess, tf.train.latest_checkpoint('checkpoints'))\n",
    "    \n",
    "    graph = tf.get_default_graph()\n",
    "    \n",
    "    x = graph.get_tensor_by_name(\"Inputs/inputs:0\")\n",
    "    keep_prob = graph.get_tensor_by_name(\"keep_probability:0\")\n",
    "    predicted = graph.get_tensor_by_name(\"predicted:0\")\n",
    "    \n",
    "    feed_dict = {x: normalized_data, keep_prob: 1.0}\n",
    "    prediction = sess.run(predicted, feed_dict=feed_dict).squeeze()"
   ]
  },
  {
   "cell_type": "code",
   "execution_count": 43,
   "metadata": {
    "collapsed": true
   },
   "outputs": [],
   "source": [
    "# test_set['key'].values[5:6]"
   ]
  },
  {
   "cell_type": "code",
   "execution_count": 44,
   "metadata": {
    "collapsed": true
   },
   "outputs": [],
   "source": [
    "# labels[np.argmax(prediction)]"
   ]
  },
  {
   "cell_type": "code",
   "execution_count": 45,
   "metadata": {
    "collapsed": true
   },
   "outputs": [],
   "source": [
    "labels = pickle.load(open(os.path.join(dataset_dir, 'labels.p'), \"rb\"))"
   ]
  },
  {
   "cell_type": "code",
   "execution_count": 46,
   "metadata": {},
   "outputs": [
    {
     "name": "stdout",
     "output_type": "stream",
     "text": [
      "Key: a, Prediction: s, Probability: 0.45\n",
      "Key: o, Prediction: n, Probability: 0.47\n",
      "Key: s, Prediction: s, Probability: 0.52\n",
      "Key: t, Prediction: e, Probability: 0.29\n",
      "Key: space, Prediction: space, Probability: 0.98\n",
      "Key: e, Prediction: r, Probability: 0.40\n",
      "Key: a, Prediction: a, Probability: 0.57\n",
      "Key: e, Prediction: r, Probability: 0.22\n",
      "Key: n, Prediction: n, Probability: 0.73\n",
      "Key: space, Prediction: space, Probability: 1.00\n",
      "Key: e, Prediction: e, Probability: 0.83\n",
      "Key: s, Prediction: a, Probability: 0.44\n",
      "Key: t, Prediction: t, Probability: 0.50\n",
      "Key: space, Prediction: space, Probability: 1.00\n",
      "Key: i, Prediction: i, Probability: 0.86\n",
      "Key: r, Prediction: n, Probability: 0.20\n",
      "Key: i, Prediction: i, Probability: 0.39\n",
      "Key: n, Prediction: n, Probability: 0.47\n",
      "Key: i, Prediction: n, Probability: 0.28\n",
      "Key: a, Prediction: a, Probability: 0.89\n",
      "Key: space, Prediction: space, Probability: 0.99\n",
      "Key: e, Prediction: e, Probability: 0.25\n",
      "Key: space, Prediction: space, Probability: 0.83\n",
      "Key: r, Prediction: r, Probability: 0.19\n",
      "Key: i, Prediction: t, Probability: 0.53\n",
      "Key: e, Prediction: e, Probability: 0.31\n",
      "Key: space, Prediction: space, Probability: 1.00\n",
      "Key: o, Prediction: o, Probability: 0.35\n",
      "Key: n, Prediction: n, Probability: 0.53\n",
      "Key: t, Prediction: r, Probability: 0.33\n",
      "Key: a, Prediction: a, Probability: 0.69\n",
      "Key: i, Prediction: i, Probability: 0.49\n",
      "Key: n, Prediction: n, Probability: 0.41\n",
      "Key: s, Prediction: s, Probability: 0.46\n",
      "Key: space, Prediction: space, Probability: 1.00\n",
      "Key: s, Prediction: s, Probability: 0.52\n",
      "Key: e, Prediction: r, Probability: 0.23\n",
      "Key: n, Prediction: n, Probability: 0.53\n",
      "Key: a, Prediction: s, Probability: 0.46\n",
      "Key: n, Prediction: n, Probability: 0.35\n",
      "Key: o, Prediction: i, Probability: 0.34\n",
      "Key: a, Prediction: a, Probability: 0.46\n",
      "Key: space, Prediction: space, Probability: 1.00\n",
      "Key: r, Prediction: t, Probability: 0.73\n",
      "Key: i, Prediction: i, Probability: 0.33\n",
      "Key: e, Prediction: r, Probability: 0.32\n",
      "Key: r, Prediction: s, Probability: 0.28\n",
      "Key: i, Prediction: i, Probability: 0.59\n",
      "Key: e, Prediction: s, Probability: 0.43\n",
      "Key: space, Prediction: space, Probability: 1.00\n",
      "Key: i, Prediction: i, Probability: 0.71\n",
      "Key: s, Prediction: s, Probability: 0.70\n",
      "Key: space, Prediction: space, Probability: 1.00\n",
      "Key: o, Prediction: i, Probability: 0.38\n",
      "Key: space, Prediction: space, Probability: 1.00\n",
      "Key: e, Prediction: r, Probability: 0.24\n",
      "Key: r, Prediction: r, Probability: 0.33\n",
      "Key: e, Prediction: r, Probability: 0.31\n",
      "Key: space, Prediction: space, Probability: 0.98\n",
      "Key: o, Prediction: o, Probability: 0.38\n",
      "Key: e, Prediction: r, Probability: 0.53\n",
      "Key: r, Prediction: t, Probability: 0.29\n",
      "Key: space, Prediction: space, Probability: 0.97\n",
      "Key: t, Prediction: t, Probability: 0.35\n",
      "Key: a, Prediction: s, Probability: 0.61\n",
      "Key: n, Prediction: t, Probability: 0.37\n",
      "Key: space, Prediction: space, Probability: 0.52\n",
      "Key: t, Prediction: s, Probability: 0.30\n",
      "Key: e, Prediction: e, Probability: 0.66\n",
      "Key: space, Prediction: space, Probability: 1.00\n",
      "Key: t, Prediction: r, Probability: 0.21\n",
      "Key: r, Prediction: r, Probability: 0.50\n",
      "Key: e, Prediction: e, Probability: 0.73\n",
      "Key: e, Prediction: t, Probability: 0.35\n",
      "Key: s, Prediction: s, Probability: 0.31\n",
      "Key: space, Prediction: space, Probability: 0.97\n",
      "Key: o, Prediction: o, Probability: 0.76\n",
      "Key: n, Prediction: n, Probability: 0.72\n",
      "Key: e, Prediction: t, Probability: 0.40\n",
      "Key: r, Prediction: r, Probability: 0.38\n",
      "Key: space, Prediction: space, Probability: 0.99\n",
      "Key: t, Prediction: t, Probability: 0.32\n",
      "Key: a, Prediction: a, Probability: 0.78\n",
      "Key: n, Prediction: n, Probability: 0.37\n",
      "Key: space, Prediction: space, Probability: 0.99\n",
      "Key: t, Prediction: t, Probability: 0.66\n",
      "Key: e, Prediction: e, Probability: 0.74\n",
      "Key: space, Prediction: space, Probability: 0.95\n",
      "Key: o, Prediction: o, Probability: 0.65\n",
      "Key: n, Prediction: n, Probability: 0.32\n",
      "Key: t, Prediction: r, Probability: 0.28\n",
      "Key: a, Prediction: a, Probability: 0.42\n",
      "Key: i, Prediction: i, Probability: 0.71\n",
      "Key: n, Prediction: n, Probability: 0.80\n",
      "Key: s, Prediction: e, Probability: 0.55\n",
      "Key: space, Prediction: space, Probability: 1.00\n",
      "Key: o, Prediction: o, Probability: 0.46\n",
      "Key: i, Prediction: i, Probability: 0.45\n",
      "Key: n, Prediction: t, Probability: 0.40\n",
      "Key: space, Prediction: space, Probability: 0.75\n",
      "Key: i, Prediction: o, Probability: 0.35\n",
      "Key: e, Prediction: r, Probability: 0.33\n",
      "Key: space, Prediction: space, Probability: 0.99\n",
      "Key: a, Prediction: a, Probability: 0.43\n",
      "Key: space, Prediction: space, Probability: 1.00\n",
      "Key: r, Prediction: r, Probability: 0.57\n",
      "Key: e, Prediction: e, Probability: 0.81\n",
      "Key: e, Prediction: r, Probability: 0.33\n",
      "Key: e, Prediction: e, Probability: 0.86\n",
      "Key: o, Prediction: o, Probability: 0.62\n",
      "Key: n, Prediction: n, Probability: 0.68\n",
      "Key: t, Prediction: t, Probability: 0.39\n",
      "Key: r, Prediction: t, Probability: 0.40\n",
      "Key: space, Prediction: space, Probability: 1.00\n",
      "Key: r, Prediction: t, Probability: 0.33\n",
      "Key: o, Prediction: i, Probability: 0.39\n",
      "Key: a, Prediction: a, Probability: 0.91\n",
      "Key: s, Prediction: s, Probability: 0.49\n",
      "Key: space, Prediction: space, Probability: 1.00\n",
      "Key: t, Prediction: r, Probability: 0.39\n",
      "Key: a, Prediction: a, Probability: 0.77\n",
      "Key: e, Prediction: e, Probability: 0.60\n",
      "Key: space, Prediction: space, Probability: 0.37\n",
      "Key: e, Prediction: e, Probability: 0.51\n",
      "Key: space, Prediction: space, Probability: 0.99\n",
      "Key: o, Prediction: o, Probability: 0.34\n",
      "Key: e, Prediction: e, Probability: 0.48\n",
      "Key: space, Prediction: space, Probability: 0.97\n",
      "Key: t, Prediction: t, Probability: 0.63\n",
      "Key: o, Prediction: r, Probability: 0.32\n",
      "Key: space, Prediction: space, Probability: 0.50\n",
      "Key: a, Prediction: a, Probability: 0.62\n",
      "Key: space, Prediction: space, Probability: 1.00\n",
      "Key: a, Prediction: a, Probability: 0.72\n",
      "Key: e, Prediction: r, Probability: 0.31\n",
      "Key: space, Prediction: space, Probability: 0.67\n",
      "Key: i, Prediction: i, Probability: 0.45\n",
      "Key: space, Prediction: space, Probability: 0.99\n",
      "Key: e, Prediction: r, Probability: 0.30\n",
      "Key: o, Prediction: o, Probability: 0.68\n",
      "Key: n, Prediction: n, Probability: 0.83\n",
      "Key: e, Prediction: e, Probability: 0.64\n",
      "Key: s, Prediction: t, Probability: 0.26\n",
      "Key: t, Prediction: t, Probability: 0.36\n",
      "Key: space, Prediction: space, Probability: 0.98\n",
      "Key: i, Prediction: t, Probability: 0.46\n",
      "Key: r, Prediction: t, Probability: 0.40\n",
      "Key: i, Prediction: i, Probability: 0.25\n",
      "Key: n, Prediction: i, Probability: 0.53\n",
      "Key: i, Prediction: r, Probability: 0.54\n",
      "Key: a, Prediction: a, Probability: 0.62\n",
      "Key: space, Prediction: space, Probability: 0.78\n",
      "Key: o, Prediction: o, Probability: 0.73\n",
      "Key: n, Prediction: e, Probability: 0.36\n",
      "Key: t, Prediction: t, Probability: 0.44\n",
      "Key: a, Prediction: a, Probability: 0.82\n",
      "Key: i, Prediction: i, Probability: 0.60\n",
      "Key: n, Prediction: n, Probability: 0.55\n",
      "Key: space, Prediction: space, Probability: 0.87\n",
      "Key: a, Prediction: a, Probability: 0.84\n",
      "Key: a, Prediction: a, Probability: 0.78\n",
      "Key: a, Prediction: a, Probability: 0.86\n",
      "Key: space, Prediction: space, Probability: 1.00\n",
      "Key: t, Prediction: e, Probability: 0.42\n",
      "Key: a, Prediction: a, Probability: 0.98\n",
      "Key: e, Prediction: e, Probability: 0.65\n",
      "Key: space, Prediction: space, Probability: 1.00\n",
      "Key: e, Prediction: e, Probability: 0.54\n",
      "Key: space, Prediction: space, Probability: 1.00\n",
      "Key: o, Prediction: i, Probability: 0.51\n",
      "Key: e, Prediction: e, Probability: 0.87\n",
      "Key: space, Prediction: space, Probability: 1.00\n",
      "Key: o, Prediction: o, Probability: 0.50\n",
      "Key: n, Prediction: i, Probability: 0.34\n",
      "Key: t, Prediction: o, Probability: 0.32\n",
      "Key: r, Prediction: r, Probability: 0.56\n",
      "Key: space, Prediction: space, Probability: 0.98\n",
      "Key: r, Prediction: r, Probability: 0.37\n",
      "Key: o, Prediction: r, Probability: 0.61\n",
      "Key: a, Prediction: a, Probability: 0.59\n",
      "Key: s, Prediction: s, Probability: 0.59\n",
      "Key: a, Prediction: a, Probability: 0.83\n",
      "Key: space, Prediction: space, Probability: 0.89\n",
      "Key: space, Prediction: space, Probability: 0.94\n",
      "Key: e, Prediction: t, Probability: 0.25\n",
      "Key: o, Prediction: o, Probability: 0.41\n",
      "Key: r, Prediction: t, Probability: 0.24\n",
      "Key: i, Prediction: i, Probability: 0.83\n",
      "Key: e, Prediction: r, Probability: 0.42\n",
      "Key: s, Prediction: a, Probability: 0.53\n",
      "Key: space, Prediction: space, Probability: 0.99\n",
      "Key: a, Prediction: a, Probability: 0.83\n",
      "Key: t, Prediction: t, Probability: 0.54\n",
      "Key: e, Prediction: e, Probability: 0.46\n",
      "Key: r, Prediction: e, Probability: 0.34\n",
      "Key: space, Prediction: space, Probability: 1.00\n",
      "Key: r, Prediction: r, Probability: 0.32\n",
      "Key: a, Prediction: a, Probability: 0.97\n",
      "Key: o, Prediction: o, Probability: 0.64\n",
      "Key: n, Prediction: n, Probability: 0.79\n",
      "Key: space, Prediction: space, Probability: 0.90\n",
      "Key: e, Prediction: e, Probability: 0.40\n",
      "Key: r, Prediction: r, Probability: 0.23\n",
      "Key: space, Prediction: space, Probability: 0.99\n",
      "Key: i, Prediction: o, Probability: 0.53\n",
      "Key: n, Prediction: n, Probability: 0.77\n",
      "Key: e, Prediction: r, Probability: 0.42\n",
      "Key: r, Prediction: r, Probability: 0.30\n",
      "Key: s, Prediction: s, Probability: 0.38\n",
      "Key: space, Prediction: space, Probability: 1.00\n",
      "Key: a, Prediction: s, Probability: 0.47\n",
      "Key: space, Prediction: space, Probability: 1.00\n",
      "Key: s, Prediction: a, Probability: 0.25\n",
      "Key: t, Prediction: t, Probability: 0.29\n",
      "Key: r, Prediction: r, Probability: 0.41\n",
      "Key: a, Prediction: a, Probability: 0.37\n",
      "Key: n, Prediction: t, Probability: 0.41\n",
      "Key: e, Prediction: s, Probability: 0.22\n",
      "Key: r, Prediction: s, Probability: 0.25\n",
      "Key: space, Prediction: space, Probability: 0.62\n",
      "Key: t, Prediction: t, Probability: 0.54\n",
      "Key: o, Prediction: i, Probability: 0.31\n",
      "Key: space, Prediction: space, Probability: 0.99\n",
      "Key: e, Prediction: e, Probability: 0.41\n",
      "Key: space, Prediction: space, Probability: 0.99\n",
      "Key: a, Prediction: a, Probability: 0.96\n",
      "Key: t, Prediction: r, Probability: 0.26\n",
      "Key: e, Prediction: e, Probability: 0.57\n",
      "Key: r, Prediction: r, Probability: 0.33\n",
      "Key: a, Prediction: a, Probability: 0.49\n",
      "Key: r, Prediction: r, Probability: 0.37\n",
      "Key: space, Prediction: space, Probability: 1.00\n",
      "Key: a, Prediction: a, Probability: 0.52\n",
      "Key: n, Prediction: n, Probability: 0.57\n",
      "Key: space, Prediction: space, Probability: 0.99\n",
      "Key: s, Prediction: s, Probability: 0.63\n",
      "Key: t, Prediction: t, Probability: 0.37\n",
      "Key: space, Prediction: space, Probability: 0.62\n",
      "Key: a, Prediction: a, Probability: 0.90\n",
      "Key: i, Prediction: i, Probability: 0.49\n",
      "Key: n, Prediction: n, Probability: 0.78\n",
      "Key: t, Prediction: r, Probability: 0.36\n",
      "Key: e, Prediction: e, Probability: 0.26\n",
      "Key: space, Prediction: space, Probability: 0.72\n",
      "Key: o, Prediction: i, Probability: 0.38\n",
      "Key: n, Prediction: n, Probability: 0.76\n",
      "Key: space, Prediction: space, Probability: 1.00\n",
      "Key: t, Prediction: t, Probability: 0.59\n",
      "Key: e, Prediction: e, Probability: 0.82\n",
      "Key: space, Prediction: space, Probability: 0.99\n",
      "Key: s, Prediction: a, Probability: 0.49\n",
      "Key: space, Prediction: space, Probability: 1.00\n",
      "Key: i, Prediction: n, Probability: 0.56\n",
      "Key: s, Prediction: r, Probability: 0.24\n",
      "Key: t, Prediction: r, Probability: 0.34\n",
      "Key: space, Prediction: space, Probability: 0.92\n",
      "Key: t, Prediction: t, Probability: 0.46\n",
      "Key: a, Prediction: a, Probability: 0.85\n",
      "Key: t, Prediction: t, Probability: 0.32\n",
      "Key: s, Prediction: s, Probability: 0.38\n",
      "Key: t, Prediction: e, Probability: 0.26\n",
      "Key: e, Prediction: e, Probability: 0.53\n",
      "Key: space, Prediction: space, Probability: 0.99\n",
      "Key: o, Prediction: i, Probability: 0.31\n",
      "Key: space, Prediction: space, Probability: 0.99\n",
      "Key: o, Prediction: t, Probability: 0.33\n",
      "Key: o, Prediction: t, Probability: 0.46\n",
      "Key: n, Prediction: n, Probability: 0.61\n",
      "Key: s, Prediction: a, Probability: 0.34\n",
      "Key: i, Prediction: i, Probability: 0.55\n",
      "Key: n, Prediction: n, Probability: 0.50\n",
      "Key: e, Prediction: e, Probability: 0.53\n",
      "Key: space, Prediction: space, Probability: 0.76\n",
      "Key: t, Prediction: o, Probability: 0.32\n",
      "Key: e, Prediction: a, Probability: 0.35\n",
      "Key: a, Prediction: s, Probability: 0.24\n",
      "Key: r, Prediction: r, Probability: 0.36\n",
      "Key: r, Prediction: r, Probability: 0.36\n",
      "Key: o, Prediction: t, Probability: 0.27\n",
      "Key: space, Prediction: space, Probability: 1.00\n",
      "Key: i, Prediction: i, Probability: 0.80\n",
      "Key: n, Prediction: n, Probability: 0.90\n",
      "Key: space, Prediction: space, Probability: 0.99\n",
      "Key: space, Prediction: space, Probability: 0.99\n",
      "Key: e, Prediction: t, Probability: 0.32\n",
      "Key: e, Prediction: e, Probability: 0.67\n",
      "Key: o, Prediction: o, Probability: 0.43\n",
      "Key: n, Prediction: n, Probability: 0.63\n",
      "Key: t, Prediction: t, Probability: 0.24\n",
      "Key: r, Prediction: r, Probability: 0.49\n",
      "Key: space, Prediction: space, Probability: 1.00\n",
      "Key: r, Prediction: t, Probability: 0.82\n",
      "Key: o, Prediction: o, Probability: 0.29\n",
      "Key: a, Prediction: a, Probability: 0.61\n",
      "Key: s, Prediction: a, Probability: 0.63\n",
      "Key: space, Prediction: space, Probability: 0.43\n",
      "Key: t, Prediction: e, Probability: 0.42\n",
      "Key: a, Prediction: a, Probability: 0.79\n",
      "Key: e, Prediction: e, Probability: 0.68\n",
      "Key: space, Prediction: space, Probability: 0.96\n",
      "Key: e, Prediction: e, Probability: 0.70\n",
      "Key: space, Prediction: space, Probability: 0.41\n",
      "Key: o, Prediction: o, Probability: 0.36\n",
      "Key: e, Prediction: e, Probability: 0.80\n",
      "Key: space, Prediction: space, Probability: 1.00\n",
      "Key: t, Prediction: t, Probability: 0.44\n",
      "Key: o, Prediction: i, Probability: 0.27\n",
      "Key: space, Prediction: space, Probability: 0.93\n",
      "Key: a, Prediction: a, Probability: 0.88\n",
      "Key: space, Prediction: space, Probability: 0.94\n",
      "Key: a, Prediction: a, Probability: 0.55\n",
      "Key: e, Prediction: r, Probability: 0.32\n",
      "Key: space, Prediction: space, Probability: 0.93\n",
      "Key: i, Prediction: t, Probability: 0.28\n",
      "Key: space, Prediction: space, Probability: 0.99\n",
      "Key: e, Prediction: r, Probability: 0.24\n",
      "Key: o, Prediction: i, Probability: 0.49\n",
      "Key: n, Prediction: n, Probability: 0.81\n",
      "Key: space, Prediction: space, Probability: 1.00\n",
      "Key: e, Prediction: e, Probability: 0.66\n",
      "Key: s, Prediction: t, Probability: 0.25\n",
      "Key: t, Prediction: r, Probability: 0.29\n",
      "Key: space, Prediction: space, Probability: 0.97\n",
      "Key: i, Prediction: a, Probability: 0.27\n",
      "Key: r, Prediction: e, Probability: 0.26\n",
      "Key: i, Prediction: i, Probability: 0.62\n",
      "Key: n, Prediction: i, Probability: 0.49\n",
      "Key: i, Prediction: o, Probability: 0.32\n",
      "Key: a, Prediction: a, Probability: 0.59\n",
      "Key: space, Prediction: space, Probability: 1.00\n",
      "Key: o, Prediction: t, Probability: 0.26\n",
      "Key: t, Prediction: t, Probability: 0.26\n",
      "Key: a, Prediction: a, Probability: 0.90\n",
      "Key: i, Prediction: i, Probability: 0.58\n",
      "Accuracy: 0.7095808383233533\n"
     ]
    }
   ],
   "source": [
    "correct_cnt = 0\n",
    "for i, r in enumerate(prediction):\n",
    "    actual_key = test_set['key'].values[i]\n",
    "    pred_key = labels[np.argmax(r)]\n",
    "    print('Key: {0}, Prediction: {1}, Probability: {2:0.2f}'.format(actual_key, pred_key, r[np.argmax(r)]))\n",
    "    if actual_key == pred_key:\n",
    "        correct_cnt += 1\n",
    "print('Accuracy: {}'.format(correct_cnt/len(test_set)))"
   ]
  },
  {
   "cell_type": "code",
   "execution_count": null,
   "metadata": {
    "collapsed": true
   },
   "outputs": [],
   "source": []
  },
  {
   "cell_type": "markdown",
   "metadata": {
    "collapsed": true
   },
   "source": [
    "# Debug Data"
   ]
  },
  {
   "cell_type": "code",
   "execution_count": 13,
   "metadata": {},
   "outputs": [
    {
     "name": "stdout",
     "output_type": "stream",
     "text": [
      "['a' 'e' 'i' 'n' 'o' 's' 'space' 't']\n",
      "INFO:tensorflow:Restoring parameters from checkpoints\\model.ckpt\n",
      "Instantiating...\n",
      "{'defaultSampleRate': 44100.0, 'maxInputChannels': 2, 'defaultHighInputLatency': 0.18, 'maxOutputChannels': 0, 'hostApi': 0, 'structVersion': 2, 'name': 'Microphone (Logitech USB Microp', 'defaultLowOutputLatency': 0.09, 'defaultHighOutputLatency': 0.18, 'index': 1, 'defaultLowInputLatency': 0.09}\n",
      "Starting listener...\n",
      "Key.space\n",
      "[  7.76624875e-05   1.27917629e-05   5.41154914e-05   1.37708768e-01\n",
      "   3.15363957e-09   2.03189880e-01   4.62370235e-06   6.58952117e-01]\n",
      "Prediction: t\n",
      "Count: 1, Accuracy: 0.00\n"
     ]
    }
   ],
   "source": [
    "from keyaudio import KeyAudio\n",
    "from sklearn import preprocessing\n",
    "import tensorflow as tf\n",
    "import numpy as np\n",
    "import os\n",
    "import pandas as pd\n",
    "import pickle\n",
    "import time\n",
    "\n",
    "dataset_dir = 'DataSet/'\n",
    "\n",
    "labels = pickle.load(open(os.path.join(dataset_dir, 'labels.p'), \"rb\"))\n",
    "print(labels)\n",
    "\n",
    "# Import a subset of the training set.\n",
    "# This will be used for normalizing the sampled data\n",
    "for filename in os.listdir(dataset_dir):\n",
    "    if filename.endswith(\"test_set.pkl\"):\n",
    "        continue\n",
    "    if filename.endswith(\".pkl\"):\n",
    "        df_norm = pd.read_pickle(os.path.join(dataset_dir, filename))\n",
    "        break\n",
    "\n",
    "\n",
    "scaler = pickle.load(open(os.path.join(dataset_dir, 'scaler.p'), \"rb\"))\n",
    "\n",
    "data_width = len(df_norm['data'][0])\n",
    "\n",
    "\"\"\"\n",
    "    df          Key press audio sample as dataframe\n",
    "\"\"\"\n",
    "def normalize_data(df):\n",
    "    input_data = df['data'].values  # Convert to numpy array\n",
    "    input_data = np.stack(input_data, axis=0)  # Create numpy matrix from array of arrays\n",
    "\n",
    "    # Normalize data\n",
    "    normalized_data = scaler.transform(input_data)\n",
    "\n",
    "    normalized_data = normalized_data.reshape((normalized_data.shape[0], normalized_data.shape[1], 1))\n",
    "    return normalized_data\n",
    "\n",
    "def reset_sample():\n",
    "    key.df_list = []\n",
    "    key.sample_ready = False\n",
    "\n",
    "# Load TensorFlow Graph\n",
    "loader = tf.train.import_meta_graph('checkpoints/model.ckpt.meta')\n",
    "with tf.Session() as sess:\n",
    "    loader.restore(sess, tf.train.latest_checkpoint('checkpoints'))\n",
    "    graph = tf.get_default_graph()\n",
    "\n",
    "    x = graph.get_tensor_by_name(\"Inputs/inputs:0\")\n",
    "    keep_prob = graph.get_tensor_by_name(\"keep_probability:0\")\n",
    "    predicted = graph.get_tensor_by_name(\"predicted:0\")\n",
    "\n",
    "    # Start Listener\n",
    "    key = KeyAudio(mode=\"Sample\", save_wav=False)\n",
    "    print(key.get_dev_info())\n",
    "    key.startListener()\n",
    "\n",
    "    count = 1\n",
    "    correct_cnt = 0\n",
    "    while key.running:\n",
    "        if key.sample_ready == True:\n",
    "            df = pd.DataFrame.from_records(key.df_list) # Key press audio sample\n",
    "\n",
    "            # Ignore keys not in the label classes\n",
    "            if not(df['key'].values[0] in labels):\n",
    "                print(\"Key skipped. Not in label set.\")\n",
    "                reset_sample()\n",
    "                continue\n",
    "\n",
    "            normalized_data = normalize_data(df)  # Normalized audio sample\n",
    "\n",
    "            # Make Prediction\n",
    "            feed_dict = {x: normalized_data, keep_prob: 1.0}\n",
    "            prediction = sess.run(predicted, feed_dict=feed_dict).squeeze()\n",
    "\n",
    "            print(prediction)\n",
    "            predicted_key = labels[np.argmax(prediction)]\n",
    "            print('Prediction: {0}'.format(predicted_key))\n",
    "\n",
    "            if df['key'].values[0] == predicted_key:\n",
    "                correct_cnt += 1\n",
    "            print('Count: {0}, Accuracy: {1:0.2f}'.format(count, correct_cnt/count))\n",
    "\n",
    "            # Reset relevant class parameters\n",
    "            reset_sample()\n",
    "            count += 1"
   ]
  },
  {
   "cell_type": "code",
   "execution_count": 10,
   "metadata": {},
   "outputs": [
    {
     "data": {
      "text/plain": [
       "pandas.core.frame.DataFrame"
      ]
     },
     "execution_count": 10,
     "metadata": {},
     "output_type": "execute_result"
    }
   ],
   "source": [
    "type(df)"
   ]
  },
  {
   "cell_type": "code",
   "execution_count": 14,
   "metadata": {},
   "outputs": [
    {
     "data": {
      "text/plain": [
       "array([[[ 0.4008316 ],\n",
       "        [ 0.42523176],\n",
       "        [ 0.44717633],\n",
       "        ..., \n",
       "        [ 0.55589823],\n",
       "        [ 0.56717557],\n",
       "        [ 0.6157276 ]]])"
      ]
     },
     "execution_count": 14,
     "metadata": {},
     "output_type": "execute_result"
    }
   ],
   "source": [
    "normalize_data(df)"
   ]
  },
  {
   "cell_type": "code",
   "execution_count": 12,
   "metadata": {},
   "outputs": [
    {
     "data": {
      "text/plain": [
       "array([[[ 0.397921  ],\n",
       "        [ 0.42321644],\n",
       "        [ 0.44948137],\n",
       "        ..., \n",
       "        [ 0.43369314],\n",
       "        [ 0.44007634],\n",
       "        [ 0.47588164]]])"
      ]
     },
     "execution_count": 12,
     "metadata": {},
     "output_type": "execute_result"
    }
   ],
   "source": [
    "normalized_data"
   ]
  },
  {
   "cell_type": "code",
   "execution_count": null,
   "metadata": {
    "collapsed": true
   },
   "outputs": [],
   "source": [
    " "
   ]
  }
 ],
 "metadata": {
  "kernelspec": {
   "display_name": "Python 3",
   "language": "python",
   "name": "python3"
  },
  "language_info": {
   "codemirror_mode": {
    "name": "ipython",
    "version": 3
   },
   "file_extension": ".py",
   "mimetype": "text/x-python",
   "name": "python",
   "nbconvert_exporter": "python",
   "pygments_lexer": "ipython3",
   "version": "3.5.3"
  }
 },
 "nbformat": 4,
 "nbformat_minor": 2
}
